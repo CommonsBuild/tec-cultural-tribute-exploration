{
 "cells": [
  {
   "cell_type": "code",
   "execution_count": 6,
   "metadata": {},
   "outputs": [],
   "source": [
    "import param\n",
    "import panel as pn\n",
    "import pandas as pd\n",
    "import hvplot.pandas\n",
    "\n",
    "\n",
    "\n",
    "class CulturalBuildTribute(param.Parameterized):\n",
    "    total_hours = param.Integer(1000, bounds=(1000, 10000), step=100)\n",
    "    \n",
    "    def __init__(self, initial_data, **params):\n",
    "        super(CulturalBuildTribute, self).__init__(**params)\n",
    "        self.df = initial_data\n",
    "    \n",
    "    @param.depends('total_hours')\n",
    "    def hourly_rate(self):\n",
    "        self.df['hourly_rate'] = self.df['cultural_tribute'] / self.total_hours\n",
    "        return self.df.hvplot.line(x='Hatch raise (DAI)', y='hourly_rate', title='Cultural Tribute Hourly Rate')"
   ]
  },
  {
   "cell_type": "code",
   "execution_count": 9,
   "metadata": {},
   "outputs": [],
   "source": [
    "\"\"\"\n",
    "Defaults\n",
    "\"\"\"\n",
    "\n",
    "total_hours = 120*4*6 # (This is 120 hours per week for 6 months.)\n",
    "cultural_build_percentage = 15\n",
    "hatch_raise = 2000000\n",
    "hourly_impact_rate = 60\n",
    "\n",
    "df = pd.read_csv('data.csv', header=2).rename({\"Unnamed: 3\": \"Unit\"}, axis=1)\n",
    "df['numeric_percent'] = df['Cultural Build Tribute Percent'].str.split('%').apply(lambda x: float(x[0])/100)\n",
    "df['cultural_tribute'] = df['numeric_percent'] * df['Hatch raise (DAI)']\n",
    "df['hourly_rate'] = df['cultural_tribute'] / total_hours"
   ]
  },
  {
   "cell_type": "code",
   "execution_count": 10,
   "metadata": {},
   "outputs": [
    {
     "data": {},
     "metadata": {},
     "output_type": "display_data"
    },
    {
     "data": {},
     "metadata": {},
     "output_type": "display_data"
    },
    {
     "data": {
      "application/vnd.holoviews_exec.v0+json": "",
      "text/html": [
       "<div id='9177'>\n",
       "\n",
       "\n",
       "\n",
       "\n",
       "\n",
       "  <div class=\"bk-root\" id=\"176c74db-2ada-41f1-b85f-9cbd4a2e12d3\" data-root-id=\"9177\"></div>\n",
       "</div>\n",
       "<script type=\"application/javascript\">(function(root) {\n",
       "  function embed_document(root) {\n",
       "    var docs_json = {\"cb0faecc-888f-4a7e-af26-13a057f87024\":{\"roots\":{\"references\":[{\"attributes\":{\"axis\":{\"id\":\"9194\"},\"grid_line_color\":null,\"ticker\":null},\"id\":\"9197\",\"type\":\"Grid\"},{\"attributes\":{},\"id\":\"9204\",\"type\":\"WheelZoomTool\"},{\"attributes\":{\"bottom_units\":\"screen\",\"fill_alpha\":0.5,\"fill_color\":\"lightgrey\",\"left_units\":\"screen\",\"level\":\"overlay\",\"line_alpha\":1.0,\"line_color\":\"black\",\"line_dash\":[4,4],\"line_width\":2,\"right_units\":\"screen\",\"top_units\":\"screen\"},\"id\":\"9207\",\"type\":\"BoxAnnotation\"},{\"attributes\":{\"line_alpha\":0.2,\"line_color\":\"#1f77b3\",\"line_width\":2,\"x\":{\"field\":\"Hatch raise (DAI)\"},\"y\":{\"field\":\"hourly_rate\"}},\"id\":\"9220\",\"type\":\"Line\"},{\"attributes\":{},\"id\":\"9192\",\"type\":\"LinearScale\"},{\"attributes\":{},\"id\":\"9199\",\"type\":\"BasicTicker\"},{\"attributes\":{\"axis\":{\"id\":\"9198\"},\"dimension\":1,\"grid_line_color\":null,\"ticker\":null},\"id\":\"9201\",\"type\":\"Grid\"},{\"attributes\":{\"callback\":null,\"renderers\":[{\"id\":\"9221\"}],\"tags\":[\"hv_created\"],\"tooltips\":[[\"Hatch raise (DAI)\",\"@{Hatch_raise_left_parenthesis_DAI_right_parenthesis}\"],[\"hourly_rate\",\"@{hourly_rate}\"]]},\"id\":\"9184\",\"type\":\"HoverTool\"},{\"attributes\":{\"client_comm_id\":\"74b396528ba6495283e6dbc3a6d08b45\",\"comm_id\":\"50da32c595dc446ea33b175fd1b0bfde\",\"plot_id\":\"9177\"},\"id\":\"9267\",\"type\":\"panel.models.comm_manager.CommManager\"},{\"attributes\":{},\"id\":\"9202\",\"type\":\"SaveTool\"},{\"attributes\":{\"line_color\":\"#1f77b3\",\"line_width\":2,\"x\":{\"field\":\"Hatch raise (DAI)\"},\"y\":{\"field\":\"hourly_rate\"}},\"id\":\"9218\",\"type\":\"Line\"},{\"attributes\":{},\"id\":\"9206\",\"type\":\"ResetTool\"},{\"attributes\":{},\"id\":\"9195\",\"type\":\"BasicTicker\"},{\"attributes\":{\"end\":1095.0,\"reset_end\":1095.0,\"reset_start\":-45.0,\"start\":-45.0,\"tags\":[[[\"hourly_rate\",\"hourly_rate\",null]]]},\"id\":\"9183\",\"type\":\"Range1d\"},{\"attributes\":{},\"id\":\"9190\",\"type\":\"LinearScale\"},{\"attributes\":{\"axis_label\":\"Hatch raise (DAI)\",\"bounds\":\"auto\",\"formatter\":{\"id\":\"9223\"},\"major_label_orientation\":\"horizontal\",\"ticker\":{\"id\":\"9195\"}},\"id\":\"9194\",\"type\":\"LinearAxis\"},{\"attributes\":{\"overlay\":{\"id\":\"9207\"}},\"id\":\"9205\",\"type\":\"BoxZoomTool\"},{\"attributes\":{\"data\":{\"Hatch raise (DAI)\":[100000000,47500000,30000000,21250000,16000000,12500000,10000000,8125000,6666667,5500000,4545455,3750000,3076923,2500000,2000000,1562500,1176471,833333,526316,250000],\"Hatch_raise_left_parenthesis_DAI_right_parenthesis\":[100000000,47500000,30000000,21250000,16000000,12500000,10000000,8125000,6666667,5500000,4545455,3750000,3076923,2500000,2000000,1562500,1176471,833333,526316,250000],\"hourly_rate\":{\"__ndarray__\":\"AAAAAABAj0AAAAAAALCNQAAAAAAAIIxAAAAAAACQikAAAAAAAACJQAAAAAAAcIdAAQAAAADghUAAAAAAAFCEQCeIug8AwIJAAAAAAAAwgUDWxW00AEB/QAAAAAAAIHxAO6WD9f//eEABAAAAAOB1QAAAAAAAwHJAAAAAAABAb0C+9sySAABpQMu+K4L/v2JASKzFpwAAWUAAAAAAAABJQA==\",\"dtype\":\"float64\",\"order\":\"little\",\"shape\":[20]}},\"selected\":{\"id\":\"9216\"},\"selection_policy\":{\"id\":\"9233\"}},\"id\":\"9215\",\"type\":\"ColumnDataSource\"},{\"attributes\":{\"data_source\":{\"id\":\"9215\"},\"glyph\":{\"id\":\"9218\"},\"hover_glyph\":null,\"muted_glyph\":{\"id\":\"9220\"},\"nonselection_glyph\":{\"id\":\"9219\"},\"selection_glyph\":null,\"view\":{\"id\":\"9222\"}},\"id\":\"9221\",\"type\":\"GlyphRenderer\"},{\"attributes\":{\"text\":\"Cultural Tribute Hourly Rate\",\"text_color\":{\"value\":\"black\"},\"text_font_size\":{\"value\":\"12pt\"}},\"id\":\"9186\",\"type\":\"Title\"},{\"attributes\":{\"reload\":false},\"id\":\"9292\",\"type\":\"panel.models.location.Location\"},{\"attributes\":{},\"id\":\"9223\",\"type\":\"BasicTickFormatter\"},{\"attributes\":{\"children\":[{\"id\":\"9185\"}],\"margin\":[0,0,0,0],\"name\":\"Row16864\"},\"id\":\"9181\",\"type\":\"Row\"},{\"attributes\":{\"below\":[{\"id\":\"9194\"}],\"center\":[{\"id\":\"9197\"},{\"id\":\"9201\"}],\"left\":[{\"id\":\"9198\"}],\"margin\":[5,5,5,5],\"min_border_bottom\":10,\"min_border_left\":10,\"min_border_right\":10,\"min_border_top\":10,\"plot_height\":300,\"plot_width\":700,\"renderers\":[{\"id\":\"9221\"}],\"sizing_mode\":\"fixed\",\"title\":{\"id\":\"9186\"},\"toolbar\":{\"id\":\"9208\"},\"x_range\":{\"id\":\"9182\"},\"x_scale\":{\"id\":\"9190\"},\"y_range\":{\"id\":\"9183\"},\"y_scale\":{\"id\":\"9192\"}},\"id\":\"9185\",\"subtype\":\"Figure\",\"type\":\"Plot\"},{\"attributes\":{\"margin\":[5,10,5,10],\"name\":\"\",\"text\":\"<b>CulturalBuildTribute</b>\"},\"id\":\"9179\",\"type\":\"Div\"},{\"attributes\":{\"children\":[{\"id\":\"9178\"},{\"id\":\"9181\"}],\"margin\":[0,0,0,0],\"name\":\"Row16949\"},\"id\":\"9177\",\"type\":\"Row\"},{\"attributes\":{},\"id\":\"9203\",\"type\":\"PanTool\"},{\"attributes\":{\"line_alpha\":0.1,\"line_color\":\"#1f77b3\",\"line_width\":2,\"x\":{\"field\":\"Hatch raise (DAI)\"},\"y\":{\"field\":\"hourly_rate\"}},\"id\":\"9219\",\"type\":\"Line\"},{\"attributes\":{\"axis_label\":\"hourly_rate\",\"bounds\":\"auto\",\"formatter\":{\"id\":\"9225\"},\"major_label_orientation\":\"horizontal\",\"ticker\":{\"id\":\"9199\"}},\"id\":\"9198\",\"type\":\"LinearAxis\"},{\"attributes\":{},\"id\":\"9216\",\"type\":\"Selection\"},{\"attributes\":{\"children\":[{\"id\":\"9179\"},{\"id\":\"9180\"}],\"margin\":[5,5,5,5],\"min_width\":300,\"name\":\"CulturalBuildTribute\",\"width\":300},\"id\":\"9178\",\"type\":\"Column\"},{\"attributes\":{\"end\":10000,\"format\":\"0[.]00\",\"margin\":[5,10,5,10],\"start\":1000,\"step\":100,\"title\":\"Total hours\",\"value\":1000,\"value_throttled\":1000},\"id\":\"9180\",\"type\":\"Slider\"},{\"attributes\":{\"end\":100000000.0,\"reset_end\":100000000.0,\"reset_start\":250000.0,\"start\":250000.0,\"tags\":[[[\"Hatch raise (DAI)\",\"Hatch raise (DAI)\",null]]]},\"id\":\"9182\",\"type\":\"Range1d\"},{\"attributes\":{\"active_drag\":\"auto\",\"active_inspect\":\"auto\",\"active_multi\":null,\"active_scroll\":\"auto\",\"active_tap\":\"auto\",\"tools\":[{\"id\":\"9184\"},{\"id\":\"9202\"},{\"id\":\"9203\"},{\"id\":\"9204\"},{\"id\":\"9205\"},{\"id\":\"9206\"}]},\"id\":\"9208\",\"type\":\"Toolbar\"},{\"attributes\":{},\"id\":\"9225\",\"type\":\"BasicTickFormatter\"},{\"attributes\":{\"source\":{\"id\":\"9215\"}},\"id\":\"9222\",\"type\":\"CDSView\"},{\"attributes\":{},\"id\":\"9233\",\"type\":\"UnionRenderers\"}],\"root_ids\":[\"9177\",\"9267\",\"9292\"]},\"title\":\"Bokeh Application\",\"version\":\"2.2.3\"}};\n",
       "    var render_items = [{\"docid\":\"cb0faecc-888f-4a7e-af26-13a057f87024\",\"root_ids\":[\"9177\"],\"roots\":{\"9177\":\"176c74db-2ada-41f1-b85f-9cbd4a2e12d3\"}}];\n",
       "    root.Bokeh.embed.embed_items_notebook(docs_json, render_items);\n",
       "  }\n",
       "  if (root.Bokeh !== undefined && root.Bokeh.Panel !== undefined) {\n",
       "    embed_document(root);\n",
       "  } else {\n",
       "    var attempts = 0;\n",
       "    var timer = setInterval(function(root) {\n",
       "      if (root.Bokeh !== undefined && root.Bokeh.Panel !== undefined) {\n",
       "        clearInterval(timer);\n",
       "        embed_document(root);\n",
       "      } else if (document.readyState == \"complete\") {\n",
       "        attempts++;\n",
       "        if (attempts > 100) {\n",
       "          clearInterval(timer);\n",
       "          console.log(\"Bokeh: ERROR: Unable to run BokehJS code because BokehJS library is missing\");\n",
       "        }\n",
       "      }\n",
       "    }, 10, root)\n",
       "  }\n",
       "})(window);</script>"
      ],
      "text/plain": [
       "Row\n",
       "    [0] Column(margin=5, name='CulturalBuildTribute', width=300)\n",
       "        [0] StaticText(value='<b>CulturalBuildTribute</...)\n",
       "        [1] IntSlider(end=10000, name='Total hours', start=1000, step=100, value=1000, value_throttled=1000)\n",
       "    [1] ParamMethod(method)"
      ]
     },
     "execution_count": 10,
     "metadata": {
      "application/vnd.holoviews_exec.v0+json": {
       "id": "9177"
      }
     },
     "output_type": "execute_result"
    }
   ],
   "source": [
    "# Instantiate the cbt\n",
    "cbt = CulturalBuildTribute(df)\n",
    "\n",
    "# Render using panel param\n",
    "pn.Row(cbt, cbt.hourly_rate)"
   ]
  },
  {
   "cell_type": "code",
   "execution_count": null,
   "metadata": {},
   "outputs": [],
   "source": []
  }
 ],
 "metadata": {
  "kernelspec": {
   "display_name": "Python 3",
   "language": "python",
   "name": "python3"
  },
  "language_info": {
   "codemirror_mode": {
    "name": "ipython",
    "version": 3
   },
   "file_extension": ".py",
   "mimetype": "text/x-python",
   "name": "python",
   "nbconvert_exporter": "python",
   "pygments_lexer": "ipython3",
   "version": "3.8.2"
  }
 },
 "nbformat": 4,
 "nbformat_minor": 4
}
